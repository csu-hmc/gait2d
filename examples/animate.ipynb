{
 "cells": [
  {
   "cell_type": "code",
   "execution_count": null,
   "id": "4ad6dcde-a00f-4b42-b1d1-568f7da68e97",
   "metadata": {},
   "outputs": [],
   "source": [
    "run run.py"
   ]
  },
  {
   "cell_type": "code",
   "execution_count": null,
   "id": "03002a41-4558-4608-a739-e499abc4d6ba",
   "metadata": {},
   "outputs": [],
   "source": [
    "scene.display_jupyter()"
   ]
  }
 ],
 "metadata": {
  "kernelspec": {
   "display_name": "Python 3 (ipykernel)",
   "language": "python",
   "name": "python3"
  },
  "language_info": {
   "codemirror_mode": {
    "name": "ipython",
    "version": 3
   },
   "file_extension": ".py",
   "mimetype": "text/x-python",
   "name": "python",
   "nbconvert_exporter": "python",
   "pygments_lexer": "ipython3",
   "version": "3.12.5"
  }
 },
 "nbformat": 4,
 "nbformat_minor": 5
}
